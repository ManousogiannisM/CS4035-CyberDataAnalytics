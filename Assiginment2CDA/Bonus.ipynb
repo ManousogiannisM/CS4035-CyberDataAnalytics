{
 "cells": [
  {
   "cell_type": "code",
   "execution_count": 89,
   "metadata": {},
   "outputs": [],
   "source": [
    "import os\n",
    "import numpy as np\n",
    "import math\n",
    "import os\n",
    "import numpy as np\n",
    "import math\n",
    "import pandas as pd\n",
    "import seaborn as sns\n",
    "import matplotlib.pyplot as plt\n",
    "import pickle"
   ]
  },
  {
   "cell_type": "code",
   "execution_count": 90,
   "metadata": {},
   "outputs": [],
   "source": [
    "TrainingSetdf = pd.read_csv(\"BATADAL_dataset03.csv\", parse_dates=True, index_col='DATETIME', dayfirst=True)\n",
    "EvalSetdf=pd.read_csv(\"BATADAL_dataset04.csv\", parse_dates=True, index_col='DATETIME', dayfirst=True)"
   ]
  },
  {
   "cell_type": "code",
   "execution_count": 91,
   "metadata": {},
   "outputs": [],
   "source": [
    "AttackDates=[]\n",
    "AllDates=[]\n",
    "for i in range(len(EvalSetdf.index)):\n",
    "    if(EvalSetdf[\" ATT_FLAG\"][i]==1):\n",
    "        date = EvalSetdf.index[i].strftime(\"%Y-%m-%d %H:%M:%S\")\n",
    "        AttackDates.append(date)\n",
    "    AllDates.append(date)\n",
    "\n"
   ]
  },
  {
   "cell_type": "code",
   "execution_count": 92,
   "metadata": {},
   "outputs": [],
   "source": [
    "with open('PCADates.pickle', 'rb') as handle:\n",
    "    PCAdetections = pickle.load(handle)\n",
    "with open('DiscreteDates.pickle','rb') as handle2:\n",
    "    DiscretePredictions=pickle.load(handle2)\n",
    "with open('ArmaDates.pickle','rb') as handle3:\n",
    "    ArmaPredictions=pickle.load(handle3)\n",
    "    "
   ]
  },
  {
   "cell_type": "code",
   "execution_count": 93,
   "metadata": {},
   "outputs": [],
   "source": [
    "tp=0\n",
    "fp=0\n",
    "\n",
    "CombinationAttacks=[]\n",
    "for date in AllDates:\n",
    "    count=0\n",
    "\n",
    "    if date in PCAdetections:\n",
    "        count+=1\n",
    "    if date in DiscretePredictions:\n",
    "        count+=1\n",
    "    if date in ArmaPredictions:\n",
    "        count+=1\n",
    "    if count>1:\n",
    "        CombinationAttacks.append(date)"
   ]
  },
  {
   "cell_type": "code",
   "execution_count": 94,
   "metadata": {},
   "outputs": [
    {
     "name": "stdout",
     "output_type": "stream",
     "text": [
      "51\n",
      "454\n",
      "168\n",
      "3505\n"
     ]
    }
   ],
   "source": [
    "tp=0\n",
    "fn=0\n",
    "\n",
    "for element in AttackDates :\n",
    "    #print(element)\n",
    "    if element in CombinationAttacks:\n",
    "        tp+=1\n",
    "    else:\n",
    "        fn+=1\n",
    "print(tp)\n",
    "fp=len(CombinationAttacks)-tp\n",
    "fn=219-tp\n",
    "tn=4178-tp-fp-fn\n",
    "print(fp)\n",
    "print(fn)\n",
    "print(tn)"
   ]
  },
  {
   "cell_type": "code",
   "execution_count": 95,
   "metadata": {},
   "outputs": [
    {
     "name": "stdout",
     "output_type": "stream",
     "text": [
      "Accuracy: 85.11\n",
      "Precision: 10.10\n",
      "Recall: 23.29\n",
      "F_score: 14.09\n"
     ]
    }
   ],
   "source": [
    "Accuracy=100.0*(tp+tn)/(tp+tn+fp+fn)\n",
    "Precision=100.0*tp / (tp + fp)\n",
    "Recall = 100.0*tp / (tp + fn)\n",
    "F_score = 100.0*2*tp /(2*tp + fp + fn)\n",
    "\n",
    "print(\"Accuracy: %.2f\" % Accuracy)\n",
    "print(\"Precision: %.2f\" % Precision)\n",
    "print(\"Recall: %.2f\" %Recall)\n",
    "print(\"F_score: %.2f\" % F_score)"
   ]
  }
 ],
 "metadata": {
  "kernelspec": {
   "display_name": "Python 3",
   "language": "python",
   "name": "python3"
  },
  "language_info": {
   "codemirror_mode": {
    "name": "ipython",
    "version": 3
   },
   "file_extension": ".py",
   "mimetype": "text/x-python",
   "name": "python",
   "nbconvert_exporter": "python",
   "pygments_lexer": "ipython3",
   "version": "3.6.4"
  }
 },
 "nbformat": 4,
 "nbformat_minor": 2
}
