{
 "cells": [
  {
   "cell_type": "code",
   "execution_count": 779,
   "metadata": {},
   "outputs": [],
   "source": [
    "import pandas as pd\n",
    "import seaborn as sns\n",
    "import numpy as np\n",
    "import os\n",
    "import matplotlib.pyplot as plt\n",
    "from statsmodels.tsa.stattools import adfuller\n",
    "from pandas.tools.plotting import autocorrelation_plot\n",
    "from statsmodels.graphics.tsaplots import plot_acf\n",
    "from statsmodels.graphics.tsaplots import plot_pacf\n",
    "import statsmodels.formula.api as smf\n",
    "import statsmodels.tsa.api as smt\n",
    "import statsmodels.api as sm\n",
    "import scipy.stats as scs"
   ]
  },
  {
   "cell_type": "code",
   "execution_count": 780,
   "metadata": {},
   "outputs": [],
   "source": [
    "#import training set and test set\n",
    "TrainingSetdf = pd.read_csv(\"BATADAL_dataset03.csv\", parse_dates=True, index_col='DATETIME', dayfirst=True)\n",
    "EvalSetdf=pd.read_csv(\"BATADAL_dataset04.csv\", parse_dates=True, index_col='DATETIME', dayfirst=True)"
   ]
  },
  {
   "cell_type": "code",
   "execution_count": 781,
   "metadata": {},
   "outputs": [],
   "source": [
    "#set the sensor that will be examined\n",
    "sensor='L_T1'"
   ]
  },
  {
   "cell_type": "code",
   "execution_count": 782,
   "metadata": {},
   "outputs": [],
   "source": [
    "#convert dataframe column to pandas series\n",
    "signal=TrainingSetdf[sensor]\n",
    "series=pd.Series(signal)\n"
   ]
  },
  {
   "cell_type": "code",
   "execution_count": 783,
   "metadata": {},
   "outputs": [
    {
     "name": "stdout",
     "output_type": "stream",
     "text": [
      "ADF Statistic: -20.615633\n",
      "p-value: 0.000000\n"
     ]
    }
   ],
   "source": [
    "##AdFuller test to check whether our seiries is stationary or not. p value lower than 0.05 indicates stationarity####\n",
    "result = adfuller(series)\n",
    "print('ADF Statistic: %f' % result[0])\n",
    "print('p-value: %f' % result[1])\n",
    "if(result[1]<0.05):\n",
    "    d=0\n",
    "else:\n",
    "    d=1\n"
   ]
  },
  {
   "cell_type": "code",
   "execution_count": 784,
   "metadata": {},
   "outputs": [
    {
     "data": {
      "image/png": "[encoded data removed]",
      "text/plain": [
       "<matplotlib.figure.Figure at 0x1bc2dff6b38>"
      ]
     },
     "execution_count": 784,
     "metadata": {},
     "output_type": "execute_result"
    },
    {
     "data": {
      "image/png": "[encoded data removed]",
      "text/plain": [
       "<matplotlib.figure.Figure at 0x1bc2dff6390>"
      ]
     },
     "metadata": {},
     "output_type": "display_data"
    },
    {
     "data": {
      "image/png": "[encoded data removed]",
      "text/plain": [
       "<matplotlib.figure.Figure at 0x1bc2dff6b38>"
      ]
     },
     "metadata": {},
     "output_type": "display_data"
    }
   ],
   "source": [
    "#autocorrelation_plot(series[0:20]) and partial autocorrelation plot to indicate the order p and q of ARMA model\n",
    "plot_acf(series,lags=13)\n",
    "plot_pacf(series,lags=13)"
   ]
  },
  {
   "cell_type": "code",
   "execution_count": 785,
   "metadata": {},
   "outputs": [
    {
     "name": "stderr",
     "output_type": "stream",
     "text": [
      "C:\\Users\\pc1\\Anaconda3\\envs\\exercises_stanford\\lib\\site-packages\\statsmodels\\tsa\\base\\tsa_model.py:171: ValueWarning: No frequency information was provided, so inferred frequency H will be used.\n",
      "  % freq, ValueWarning)\n",
      "C:\\Users\\pc1\\Anaconda3\\envs\\exercises_stanford\\lib\\site-packages\\statsmodels\\tsa\\base\\tsa_model.py:171: ValueWarning: No frequency information was provided, so inferred frequency H will be used.\n",
      "  % freq, ValueWarning)\n",
      "C:\\Users\\pc1\\Anaconda3\\envs\\exercises_stanford\\lib\\site-packages\\statsmodels\\tsa\\base\\tsa_model.py:171: ValueWarning: No frequency information was provided, so inferred frequency H will be used.\n",
      "  % freq, ValueWarning)\n",
      "C:\\Users\\pc1\\Anaconda3\\envs\\exercises_stanford\\lib\\site-packages\\statsmodels\\tsa\\base\\tsa_model.py:171: ValueWarning: No frequency information was provided, so inferred frequency H will be used.\n",
      "  % freq, ValueWarning)\n",
      "C:\\Users\\pc1\\Anaconda3\\envs\\exercises_stanford\\lib\\site-packages\\statsmodels\\tsa\\base\\tsa_model.py:171: ValueWarning: No frequency information was provided, so inferred frequency H will be used.\n",
      "  % freq, ValueWarning)\n",
      "C:\\Users\\pc1\\Anaconda3\\envs\\exercises_stanford\\lib\\site-packages\\statsmodels\\base\\model.py:508: ConvergenceWarning: Maximum Likelihood optimization failed to converge. Check mle_retvals\n",
      "  \"Check mle_retvals\", ConvergenceWarning)\n",
      "C:\\Users\\pc1\\Anaconda3\\envs\\exercises_stanford\\lib\\site-packages\\statsmodels\\tsa\\base\\tsa_model.py:171: ValueWarning: No frequency information was provided, so inferred frequency H will be used.\n",
      "  % freq, ValueWarning)\n",
      "C:\\Users\\pc1\\Anaconda3\\envs\\exercises_stanford\\lib\\site-packages\\statsmodels\\tsa\\tsatools.py:650: RuntimeWarning: overflow encountered in exp\n",
      "  newparams = ((1-np.exp(-params))/(1+np.exp(-params))).copy()\n",
      "C:\\Users\\pc1\\Anaconda3\\envs\\exercises_stanford\\lib\\site-packages\\statsmodels\\tsa\\tsatools.py:650: RuntimeWarning: invalid value encountered in true_divide\n",
      "  newparams = ((1-np.exp(-params))/(1+np.exp(-params))).copy()\n",
      "C:\\Users\\pc1\\Anaconda3\\envs\\exercises_stanford\\lib\\site-packages\\statsmodels\\tsa\\tsatools.py:651: RuntimeWarning: overflow encountered in exp\n",
      "  tmp = ((1-np.exp(-params))/(1+np.exp(-params))).copy()\n",
      "C:\\Users\\pc1\\Anaconda3\\envs\\exercises_stanford\\lib\\site-packages\\statsmodels\\tsa\\tsatools.py:651: RuntimeWarning: invalid value encountered in true_divide\n",
      "  tmp = ((1-np.exp(-params))/(1+np.exp(-params))).copy()\n",
      "C:\\Users\\pc1\\Anaconda3\\envs\\exercises_stanford\\lib\\site-packages\\statsmodels\\tsa\\tsatools.py:606: RuntimeWarning: overflow encountered in exp\n",
      "  newparams = ((1-np.exp(-params))/\n",
      "C:\\Users\\pc1\\Anaconda3\\envs\\exercises_stanford\\lib\\site-packages\\statsmodels\\tsa\\tsatools.py:607: RuntimeWarning: overflow encountered in exp\n",
      "  (1+np.exp(-params))).copy()\n",
      "C:\\Users\\pc1\\Anaconda3\\envs\\exercises_stanford\\lib\\site-packages\\statsmodels\\tsa\\tsatools.py:607: RuntimeWarning: invalid value encountered in true_divide\n",
      "  (1+np.exp(-params))).copy()\n",
      "C:\\Users\\pc1\\Anaconda3\\envs\\exercises_stanford\\lib\\site-packages\\statsmodels\\tsa\\tsatools.py:608: RuntimeWarning: overflow encountered in exp\n",
      "  tmp = ((1-np.exp(-params))/\n",
      "C:\\Users\\pc1\\Anaconda3\\envs\\exercises_stanford\\lib\\site-packages\\statsmodels\\tsa\\tsatools.py:609: RuntimeWarning: overflow encountered in exp\n",
      "  (1+np.exp(-params))).copy()\n",
      "C:\\Users\\pc1\\Anaconda3\\envs\\exercises_stanford\\lib\\site-packages\\statsmodels\\tsa\\tsatools.py:609: RuntimeWarning: invalid value encountered in true_divide\n",
      "  (1+np.exp(-params))).copy()\n"
     ]
    },
    {
     "name": "stdout",
     "output_type": "stream",
     "text": [
      "aic: -12999.57216 | order: (3, 0, 1)\n",
      "                              ARMA Model Results                              \n",
      "==============================================================================\n",
      "Dep. Variable:                   L_T1   No. Observations:                 8761\n",
      "Model:                     ARMA(3, 1)   Log Likelihood                6504.786\n",
      "Method:                           mle   S.D. of innovations              0.115\n",
      "Date:                Mon, 04 Jun 2018   AIC                         -12999.572\n",
      "Time:                        22:43:39   BIC                         -12964.182\n",
      "Sample:                    01-06-2014   HQIC                        -12987.514\n",
      "                         - 01-06-2015                                         \n",
      "==============================================================================\n",
      "                 coef    std err          z      P>|z|      [0.025      0.975]\n",
      "------------------------------------------------------------------------------\n",
      "ar.L1.L_T1     2.8510        nan        nan        nan         nan         nan\n",
      "ar.L2.L_T1    -2.7371        nan        nan        nan         nan         nan\n",
      "ar.L3.L_T1     0.8861        nan        nan        nan         nan         nan\n",
      "ma.L1.L_T1    -0.9985        nan        nan        nan         nan         nan\n",
      "                                    Roots                                    \n",
      "=============================================================================\n",
      "                  Real          Imaginary           Modulus         Frequency\n",
      "-----------------------------------------------------------------------------\n",
      "AR.1            1.0000           -0.0000j            1.0000           -0.0000\n",
      "AR.2            1.0444           -0.1940j            1.0623           -0.0292\n",
      "AR.3            1.0444           +0.1940j            1.0623            0.0292\n",
      "MA.1            1.0015           +0.0000j            1.0015            0.0000\n",
      "-----------------------------------------------------------------------------\n"
     ]
    },
    {
     "name": "stderr",
     "output_type": "stream",
     "text": [
      "C:\\Users\\pc1\\Anaconda3\\envs\\exercises_stanford\\lib\\site-packages\\statsmodels\\tsa\\arima_model.py:1455: RuntimeWarning: invalid value encountered in sqrt\n",
      "  return np.sqrt(np.diag(-inv(hess)))\n",
      "C:\\Users\\pc1\\Anaconda3\\envs\\exercises_stanford\\lib\\site-packages\\scipy\\stats\\_distn_infrastructure.py:879: RuntimeWarning: invalid value encountered in greater\n",
      "  return (self.a < x) & (x < self.b)\n",
      "C:\\Users\\pc1\\Anaconda3\\envs\\exercises_stanford\\lib\\site-packages\\scipy\\stats\\_distn_infrastructure.py:879: RuntimeWarning: invalid value encountered in less\n",
      "  return (self.a < x) & (x < self.b)\n",
      "C:\\Users\\pc1\\Anaconda3\\envs\\exercises_stanford\\lib\\site-packages\\scipy\\stats\\_distn_infrastructure.py:1821: RuntimeWarning: invalid value encountered in less_equal\n",
      "  cond2 = cond0 & (x <= self.a)\n"
     ]
    }
   ],
   "source": [
    "###AIC to find optimal parameters and further optimize order of ARMA model\n",
    "bestAIC = np.inf \n",
    "finalOrder = None\n",
    "bestModel = None\n",
    "\n",
    "pRange = range(1,4) \n",
    "qRange = range(1,3) \n",
    "dRange=range(0,1)\n",
    "for i in pRange:\n",
    "    for j in qRange:\n",
    "        \n",
    "            try:\n",
    "                modeltmp = smt.ARIMA(TrainingSetdf[sensor], order=(i,d,j)).fit(method='mle', trend='nc')\n",
    "                tempAIC = modeltmp.aic\n",
    "                if tempAIC < bestAIC:\n",
    "                    bestAIC = tempAIC\n",
    "                    finalOrder = (i, d, j)\n",
    "                    bestModel = modeltmp\n",
    "            except: continue\n",
    "\n",
    "\n",
    "print('aic: {:6.5f} | order: {}'.format(bestAIC, finalOrder))\n",
    "\n",
    "print(bestModel.summary())"
   ]
  },
  {
   "cell_type": "code",
   "execution_count": 768,
   "metadata": {},
   "outputs": [],
   "source": [
    "#rename sensor to fit in the test data_set\n",
    "sensor2=' '+sensor\n"
   ]
  },
  {
   "cell_type": "code",
   "execution_count": 769,
   "metadata": {},
   "outputs": [
    {
     "name": "stderr",
     "output_type": "stream",
     "text": [
      "C:\\Users\\pc1\\Anaconda3\\envs\\exercises_stanford\\lib\\site-packages\\statsmodels\\tsa\\base\\tsa_model.py:171: ValueWarning: No frequency information was provided, so inferred frequency H will be used.\n",
      "  % freq, ValueWarning)\n"
     ]
    }
   ],
   "source": [
    "#we create predictions on the test data using the optimal ARMA model order we calculated earlier\n",
    "testModel =smt.ARIMA( EvalSetdf[sensor2], order=finalOrder).fit(method='mle', trend='nc')"
   ]
  },
  {
   "cell_type": "code",
   "execution_count": 770,
   "metadata": {},
   "outputs": [],
   "source": [
    "#find the residuals of this model\n",
    "#testResid=testModel.resid[8763:]\n",
    "testResid=testModel.resid[2:]"
   ]
  },
  {
   "cell_type": "code",
   "execution_count": 771,
   "metadata": {},
   "outputs": [
    {
     "data": {
      "text/plain": [
       "[<matplotlib.lines.Line2D at 0x1bc2dfdfe10>]"
      ]
     },
     "execution_count": 771,
     "metadata": {},
     "output_type": "execute_result"
    },
    {
     "data": {
      "image/png": "[encoded data removed]",
      "text/plain": [
       "<matplotlib.figure.Figure at 0x1bc2dfa7358>"
      ]
     },
     "metadata": {},
     "output_type": "display_data"
    }
   ],
   "source": [
    "#plot the residuals over time.Anomalies can clearly be noticed\n",
    "plt.plot(testResid)\n"
   ]
  },
  {
   "cell_type": "code",
   "execution_count": 772,
   "metadata": {},
   "outputs": [
    {
     "data": {
      "text/plain": [
       "(-2.3791181393907896, 2.233301047097251)"
      ]
     },
     "execution_count": 772,
     "metadata": {},
     "output_type": "execute_result"
    },
    {
     "data": {
      "image/png": "[encoded data removed]",
      "text/plain": [
       "<matplotlib.figure.Figure at 0x1bc2e083c50>"
      ]
     },
     "metadata": {},
     "output_type": "display_data"
    }
   ],
   "source": [
    "#plot residuals of the training set to show the comparison.No attacks exist and thus no clear anomalies are detected here.\n",
    "trainresid=bestModel.resid[2:]\n",
    "plt.plot(trainresid)\n",
    "plt.ylim(ymin=min(testResid),ymax=max(testResid))"
   ]
  },
  {
   "cell_type": "code",
   "execution_count": 773,
   "metadata": {},
   "outputs": [
    {
     "name": "stdout",
     "output_type": "stream",
     "text": [
      "0.533326899274043\n"
     ]
    }
   ],
   "source": [
    "#set threshold sensibly.Start with 2* std of the residual, and gradually increase in order to minimize anomalies on non-attacked dataset\n",
    "testStd = np.std(testResid)\n",
    "initialThreshold=2*testStd\n",
    "maxThreshold=3.5*testStd\n",
    "threshold=initialThreshold\n",
    "while len(trainresid[trainresid > threshold])>0 and threshold<maxThreshold:\n",
    "    threshold=threshold*1.05\n",
    "print(threshold)"
   ]
  },
  {
   "cell_type": "code",
   "execution_count": 774,
   "metadata": {},
   "outputs": [],
   "source": [
    "det_anom_lit = testResid[testResid > threshold]\n"
   ]
  },
  {
   "cell_type": "code",
   "execution_count": 775,
   "metadata": {},
   "outputs": [],
   "source": [
    "anomTrain=trainresid[trainresid > threshold]\n"
   ]
  },
  {
   "cell_type": "code",
   "execution_count": 776,
   "metadata": {},
   "outputs": [
    {
     "name": "stdout",
     "output_type": "stream",
     "text": [
      "['2016-10-10 13:00:00', '2016-10-11 01:00:00', '2016-10-11 20:00:00', '2016-10-29 19:00:00', '2016-10-31 19:00:00', '2016-11-01 14:00:00', '2016-11-02 17:00:00']\n"
     ]
    }
   ],
   "source": [
    "datesOfDetection=[]\n",
    "for i in range(len(det_anom_lit)):\n",
    "    date=det_anom_lit.index[i].strftime(\"%Y-%m-%d %H:%M:%S\")\n",
    "    datesOfDetection.append(date)\n",
    "print(datesOfDetection)"
   ]
  },
  {
   "cell_type": "code",
   "execution_count": 777,
   "metadata": {},
   "outputs": [],
   "source": [
    "tp=0\n",
    "fp=0"
   ]
  },
  {
   "cell_type": "code",
   "execution_count": 778,
   "metadata": {},
   "outputs": [
    {
     "name": "stdout",
     "output_type": "stream",
     "text": [
      "4\n",
      "3\n"
     ]
    }
   ],
   "source": [
    "for date in datesOfDetection:\n",
    "    if(EvalSetdf.loc[date][43]==1):\n",
    "       tp+=1\n",
    "    else:\n",
    "       fp+=1\n",
    "print(tp)\n",
    "print(fp)"
   ]
  }
 ],
 "metadata": {
  "kernelspec": {
   "display_name": "Python 3",
   "language": "python",
   "name": "python3"
  },
  "language_info": {
   "codemirror_mode": {
    "name": "ipython",
    "version": 3
   },
   "file_extension": ".py",
   "mimetype": "text/x-python",
   "name": "python",
   "nbconvert_exporter": "python",
   "pygments_lexer": "ipython3",
   "version": "3.6.4"
  }
 },
 "nbformat": 4,
 "nbformat_minor": 2
}
