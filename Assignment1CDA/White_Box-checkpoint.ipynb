{
 "cells": [
  {
   "cell_type": "code",
   "execution_count": null,
   "metadata": {},
   "outputs": [],
   "source": [
    "####### White Box #######"
   ]
  },
  {
   "cell_type": "code",
   "execution_count": 1,
   "metadata": {},
   "outputs": [
    {
     "name": "stderr",
     "output_type": "stream",
     "text": [
      "C:\\Users\\pc1\\Anaconda3\\lib\\site-packages\\sklearn\\cross_validation.py:41: DeprecationWarning: This module was deprecated in version 0.18 in favor of the model_selection module into which all the refactored classes and functions are moved. Also note that the interface of the new CV iterators are different from that of this module. This module will be removed in 0.20.\n",
      "  \"This module will be removed in 0.20.\", DeprecationWarning)\n"
     ]
    }
   ],
   "source": [
    "#Import Libraries\n",
    "import os\n",
    "import pandas as pd\n",
    "from sklearn import tree\n",
    "from sklearn.model_selection import train_test_split\n",
    "from sklearn.neighbors import KNeighborsClassifier\n",
    "from sklearn.linear_model import LogisticRegression\n",
    "from imblearn.over_sampling import SMOTE\n",
    "import matplotlib.pyplot as plt\n",
    "import seaborn as sns\n",
    "from sklearn.metrics import roc_curve\n",
    "from sklearn.metrics import roc_auc_score\n",
    "from sklearn.metrics import precision_recall_curve\n",
    "from sklearn.ensemble import RandomForestClassifier\n",
    "import numpy as np\n",
    "from sklearn.model_selection import KFold\n",
    "from sklearn.metrics import confusion_matrix\n",
    "from sklearn.cross_validation import StratifiedKFold\n",
    "from sklearn.metrics import accuracy_score, f1_score, precision_score, recall_score"
   ]
  },
  {
   "cell_type": "code",
   "execution_count": 2,
   "metadata": {},
   "outputs": [
    {
     "name": "stdout",
     "output_type": "stream",
     "text": [
      "<class 'pandas.core.frame.DataFrame'>\n",
      "Int64Index: 237036 entries, 0 to 290381\n",
      "Data columns (total 17 columns):\n",
      "txid                            237036 non-null int64\n",
      "bookingdate                     237036 non-null object\n",
      "issuercountrycode               237032 non-null object\n",
      "txvariantcode                   237036 non-null object\n",
      "bin                             237036 non-null float64\n",
      "amount                          237036 non-null float64\n",
      "currencycode                    237036 non-null object\n",
      "shoppercountrycode              236694 non-null object\n",
      "shopperinteraction              237036 non-null object\n",
      "simple_journal                  237036 non-null object\n",
      "cardverificationcodesupplied    223842 non-null object\n",
      "cvcresponsecode                 237036 non-null int64\n",
      "creationdate                    237036 non-null object\n",
      "accountcode                     237036 non-null object\n",
      "mail_id                         237036 non-null object\n",
      "ip_id                           237036 non-null object\n",
      "card_id                         237036 non-null object\n",
      "dtypes: float64(2), int64(2), object(13)\n",
      "memory usage: 32.6+ MB\n"
     ]
    }
   ],
   "source": [
    "##Prepocessing stage\n",
    "#Remove refused transactions from dataset\n",
    "cwd = os.getcwd()\n",
    "dataFrame = pd.read_csv(cwd+\"\\data_for_student_case.csv\")\n",
    "dataFrame = dataFrame.loc[dataFrame['simple_journal'] != 'Refused']\n",
    "dataFrame.info()\n",
    "#convert booking date and creation date to DataTime\n",
    "dates=['bookingdate', 'creationdate']\n",
    "for col in dates:\n",
    "    dataFrame[col] = pd.to_datetime(dataFrame.bookingdate, format='%Y-%m-%d %H:%M:%S', errors='coerce')\n",
    "#Handle the following attributes as categorical\n",
    "categoricalAtrr=['issuercountrycode', 'txvariantcode', 'currencycode', 'shoppercountrycode', 'shopperinteraction',\n",
    "               'cardverificationcodesupplied', 'cvcresponsecode', 'accountcode']\n",
    "for col in categoricalAtrr:\n",
    "    dataFrame[col] = dataFrame[col].astype('category')\n",
    "def CurerncyConverter(currencyColumn):\n",
    "    coversion_dict = {'SEK':0.0858,'MXN':0.038011,'AUD':0.556,'NZD':0.514,'GBP':1}\n",
    "    currency = currencyColumn['currencycode']\n",
    "    amount = currencyColumn['amount']\n",
    "    return round(amount * coversion_dict[currency] / 100)\n",
    "dataFrame['convertedAmount'] = dataFrame.apply(lambda x: CurerncyConverter(x),axis=1)\n",
    "##Preprocessing stage finished"
   ]
  },
  {
   "cell_type": "code",
   "execution_count": 24,
   "metadata": {},
   "outputs": [],
   "source": [
    "# Choose the most discriminative features\n",
    "dataFrameSubset = dataFrame[['issuercountrycode', 'txvariantcode', 'convertedAmount', 'currencycode', 'shoppercountrycode',\n",
    "                  'shopperinteraction', 'cardverificationcodesupplied', 'cvcresponsecode', 'accountcode',\n",
    "                   'simple_journal']]"
   ]
  },
  {
   "cell_type": "code",
   "execution_count": 25,
   "metadata": {},
   "outputs": [
    {
     "name": "stderr",
     "output_type": "stream",
     "text": [
      "C:\\Users\\pc1\\Anaconda3\\lib\\site-packages\\pandas\\core\\indexing.py:537: SettingWithCopyWarning: \n",
      "A value is trying to be set on a copy of a slice from a DataFrame.\n",
      "Try using .loc[row_indexer,col_indexer] = value instead\n",
      "\n",
      "See the caveats in the documentation: http://pandas.pydata.org/pandas-docs/stable/indexing.html#indexing-view-versus-copy\n",
      "  self.obj[item] = s\n",
      "C:\\Users\\pc1\\Anaconda3\\lib\\site-packages\\ipykernel_launcher.py:4: SettingWithCopyWarning: \n",
      "A value is trying to be set on a copy of a slice from a DataFrame.\n",
      "Try using .loc[row_indexer,col_indexer] = value instead\n",
      "\n",
      "See the caveats in the documentation: http://pandas.pydata.org/pandas-docs/stable/indexing.html#indexing-view-versus-copy\n",
      "  after removing the cwd from sys.path.\n"
     ]
    },
    {
     "name": "stdout",
     "output_type": "stream",
     "text": [
      "<class 'pandas.core.frame.DataFrame'>\n",
      "Int64Index: 237036 entries, 0 to 290381\n",
      "Columns: 292 entries, convertedAmount to accountcode_UKAccount\n",
      "dtypes: int64(1), uint8(291)\n",
      "memory usage: 69.4 MB\n"
     ]
    }
   ],
   "source": [
    "#ad-hoc endoding of features\n",
    "dataFrameSubset.loc[dataFrameSubset.simple_journal == 'Chargeback', 'simple_journal'] = 1\n",
    "dataFrameSubset.loc[dataFrameSubset.simple_journal == 'Settled', 'simple_journal'] = 0\n",
    "dataFrameSubset['simple_journal'] = dataFrameSubset['simple_journal'].astype('int')\n",
    "labels = dataFrameSubset.simple_journal\n",
    "features = dataFrameSubset.drop('simple_journal', axis=1)\n",
    "features = pd.get_dummies(features)\n",
    "features.info()"
   ]
  },
  {
   "cell_type": "code",
   "execution_count": 26,
   "metadata": {},
   "outputs": [],
   "source": [
    "# Hyperparameter tuning(Probability threshold) \n",
    "def threshold(classifier):\n",
    "# Set some parameters for tuning\n",
    "    probability_threshold = [0.1,0.2,0.3,0.4,0.5,0.6,0.7,0.8,0.9]\n",
    "    best_f05 = 0\n",
    "    best_prob_threshold=0\n",
    "    smote = SMOTE(ratio= 0.01,random_state = 42)\n",
    "    # Splitting of the dataset (train=80%, test=20%)\n",
    "    X_train, X_test, y_train, y_test = train_test_split(features,labels,test_size = 0.2, random_state = 42)\n",
    "    X_train, y_train = smote.fit_sample(X_train, y_train)\n",
    "    classifier.fit(X_train, y_train)\n",
    "    y_scores = classifier.predict_proba(X_test)[:,1]\n",
    "    # Find best threshold\n",
    "    for prob in probability_threshold:\n",
    "        y_pred = y_scores > prob\n",
    "        tn, fp, fn, tp = confusion_matrix(y_pred=y_pred,y_true=y_test).ravel()\n",
    "        precision = 1.0 * tp / (tp + fp)\n",
    "        recall = 1.0 * tp /(tp + fn)\n",
    "        # Using F_0.5 score as a metric to choose best threshold\n",
    "        f05 = (1 + 0.25)*(precision * recall)/(0.25 *precision + recall)\n",
    "        if f05 > best_f05:\n",
    "            best_prob_threshold = prob\n",
    "            best_f05 = f05\n",
    "            best_confusion = (tn, fp, fn, tp)\n",
    "            best_classifier = classifier\n",
    "    return best_confusion,best_classifier,best_prob_threshold"
   ]
  },
  {
   "cell_type": "code",
   "execution_count": 27,
   "metadata": {},
   "outputs": [
    {
     "name": "stderr",
     "output_type": "stream",
     "text": [
      "C:\\Users\\pc1\\Anaconda3\\lib\\site-packages\\sklearn\\utils\\deprecation.py:77: DeprecationWarning: Function _ratio_float is deprecated; Use a float for 'ratio' is deprecated from version 0.2. The support will be removed in 0.4. Use a dict, str, or a callable instead.\n",
      "  warnings.warn(msg, category=DeprecationWarning)\n"
     ]
    }
   ],
   "source": [
    "# Build a Logistic Regression Classifier with inverted regularization strengh equals 500 and l1 norm in penalty\n",
    "lr = LogisticRegression(C=500, penalty='l1')\n",
    "(tn, fp, fn, tp),best_classifier,BestThreshold = threshold(lr)"
   ]
  },
  {
   "cell_type": "code",
   "execution_count": 28,
   "metadata": {},
   "outputs": [
    {
     "data": {
      "image/png": "[encoded data removed]",
      "text/plain": [
       "<matplotlib.figure.Figure at 0x1deaf3113c8>"
      ]
     },
     "metadata": {},
     "output_type": "display_data"
    }
   ],
   "source": [
    "# Plot the first 50 features to provide showing a sample of the feature coefficients\n",
    "features_top50 = best_classifier.coef_[:,230:260]\n",
    "features_top50 = [c for c in features_top50[0]]\n",
    "plt.figure(figsize=(11,11))\n",
    "plt.barh(range(30),features_top50)\n",
    "plt.yticks(range(30),features.columns[0:30])\n",
    "plt.show()"
   ]
  },
  {
   "cell_type": "code",
   "execution_count": 29,
   "metadata": {},
   "outputs": [],
   "source": [
    "#Perform 10-fold cross validation and calculate evaluation metrics for both SMOTED and UNSMOTED case\n",
    "def cross_validation_10_fold(classifier, features, labels):\n",
    "\n",
    "    \n",
    "    k_fold = KFold(n_splits=10, shuffle=True, random_state=42)\n",
    "\n",
    "    \n",
    "    TP_all = []\n",
    "    FP_all = []\n",
    "    TN_all = []\n",
    "    FN_all = []\n",
    "    AUC_all = []\n",
    "    accuracy=[]\n",
    "    f1_measure=[]\n",
    "    Recall=[]\n",
    "    precision=[]\n",
    "\n",
    "    for train_index, test_index in k_fold.split(features):\n",
    "        \n",
    "\n",
    "        \n",
    "        features_train, features_test = features.iloc[train_index], features.iloc[test_index]\n",
    "        labels_train, labels_test = labels.iloc[train_index], labels.iloc[test_index]\n",
    "\n",
    "        \n",
    "        oversampling = SMOTE(ratio=float(0.18), random_state=42)\n",
    "        features_oversampling, labels_oversampling = oversampling.fit_sample(features_train, labels_train)\n",
    "\n",
    "        \n",
    "        #classifier.fit(features_train, labels_train) , Comment out to evaluare for UNSMOTED case\n",
    "        classifier.fit(features_oversampling, labels_oversampling) \n",
    "        y_scores = classifier.predict_proba(features_test)[:,1]\n",
    "        labels_predicted=y_scores>BestThreshold\n",
    "        \n",
    "        \n",
    "\n",
    "        \n",
    "        labels_predicted = classifier.predict(features_test)\n",
    "        table_of_confusion = confusion_matrix(labels_test, labels_predicted, labels=[1, 0])\n",
    "        \n",
    "        acc= accuracy_score(labels_predicted,labels_test)*100\n",
    "        f1= f1_score(labels_predicted,labels_test)*100\n",
    "        rec= recall_score(labels_predicted,labels_test)*100\n",
    "        prec=precision_score(labels_predicted,labels_test)*100\n",
    "        \n",
    "\n",
    "        TP = table_of_confusion[0][0]\n",
    "        FP = table_of_confusion[1][0]\n",
    "        TN = table_of_confusion[1][1]\n",
    "        FN = table_of_confusion[0][1]\n",
    "\n",
    "        labels_predicted_probability = classifier.predict_proba(features_test)[:, 1]\n",
    "        AUC = roc_auc_score(labels_test, labels_predicted_probability)\n",
    "\n",
    "        \n",
    "        TP_all.append(TP)\n",
    "        FP_all.append(FP)\n",
    "        TN_all.append(TN)\n",
    "        FN_all.append(FN)\n",
    "        AUC_all.append(AUC)\n",
    "        accuracy.append(acc)\n",
    "        f1_measure.append(f1)\n",
    "        Recall.append(rec)\n",
    "        precision.append(prec)\n",
    "\n",
    "    \n",
    "    TP_all = np.array(TP_all)\n",
    "    FP_all = np.array(FP_all)\n",
    "    TN_all = np.array(TN_all)\n",
    "    FN_all = np.array(FN_all)\n",
    "    AUC_all = np.array(AUC_all)\n",
    "    accuracy=np.array(accuracy)\n",
    "    f1_measure=np.array(f1_measure)\n",
    "    Recall=np.array(Recall)\n",
    "    precision=np.array(precision)\n",
    "    print(\"Accuracy: {}\".format(np.mean(accuracy)))\n",
    "    print(\"Recall: {}\".format(np.mean(Recall)))\n",
    "    print(\"Precision: {}\".format(np.mean(precision)))\n",
    "    print(\"F-measure: {}\".format(np.sum(f1_measure)))\n",
    "    print(\"AUC: {}\".format(np.sum(AUC)))\n",
    "    print(\"True positives: {}\".format(np.sum(TP_all)))\n",
    "    print(\"False positives: {}\".format(np.sum(FP_all)))\n",
    "    print(\"True negatives: {}\".format(np.sum(TN_all)))\n",
    "    print(\"False negatives: {}\".format(np.sum(FN_all)))\n",
    "\n",
    "    "
   ]
  },
  {
   "cell_type": "code",
   "execution_count": 31,
   "metadata": {},
   "outputs": [
    {
     "name": "stderr",
     "output_type": "stream",
     "text": [
      "C:\\Users\\pc1\\Anaconda3\\lib\\site-packages\\sklearn\\utils\\deprecation.py:77: DeprecationWarning: Function _ratio_float is deprecated; Use a float for 'ratio' is deprecated from version 0.2. The support will be removed in 0.4. Use a dict, str, or a callable instead.\n",
      "  warnings.warn(msg, category=DeprecationWarning)\n",
      "C:\\Users\\pc1\\Anaconda3\\lib\\site-packages\\sklearn\\utils\\deprecation.py:77: DeprecationWarning: Function _ratio_float is deprecated; Use a float for 'ratio' is deprecated from version 0.2. The support will be removed in 0.4. Use a dict, str, or a callable instead.\n",
      "  warnings.warn(msg, category=DeprecationWarning)\n",
      "C:\\Users\\pc1\\Anaconda3\\lib\\site-packages\\sklearn\\utils\\deprecation.py:77: DeprecationWarning: Function _ratio_float is deprecated; Use a float for 'ratio' is deprecated from version 0.2. The support will be removed in 0.4. Use a dict, str, or a callable instead.\n",
      "  warnings.warn(msg, category=DeprecationWarning)\n",
      "C:\\Users\\pc1\\Anaconda3\\lib\\site-packages\\sklearn\\utils\\deprecation.py:77: DeprecationWarning: Function _ratio_float is deprecated; Use a float for 'ratio' is deprecated from version 0.2. The support will be removed in 0.4. Use a dict, str, or a callable instead.\n",
      "  warnings.warn(msg, category=DeprecationWarning)\n",
      "C:\\Users\\pc1\\Anaconda3\\lib\\site-packages\\sklearn\\utils\\deprecation.py:77: DeprecationWarning: Function _ratio_float is deprecated; Use a float for 'ratio' is deprecated from version 0.2. The support will be removed in 0.4. Use a dict, str, or a callable instead.\n",
      "  warnings.warn(msg, category=DeprecationWarning)\n",
      "C:\\Users\\pc1\\Anaconda3\\lib\\site-packages\\sklearn\\metrics\\classification.py:1137: UndefinedMetricWarning: F-score is ill-defined and being set to 0.0 due to no true samples.\n",
      "  'recall', 'true', average, warn_for)\n",
      "C:\\Users\\pc1\\Anaconda3\\lib\\site-packages\\sklearn\\metrics\\classification.py:1137: UndefinedMetricWarning: Recall is ill-defined and being set to 0.0 due to no true samples.\n",
      "  'recall', 'true', average, warn_for)\n",
      "C:\\Users\\pc1\\Anaconda3\\lib\\site-packages\\sklearn\\utils\\deprecation.py:77: DeprecationWarning: Function _ratio_float is deprecated; Use a float for 'ratio' is deprecated from version 0.2. The support will be removed in 0.4. Use a dict, str, or a callable instead.\n",
      "  warnings.warn(msg, category=DeprecationWarning)\n",
      "C:\\Users\\pc1\\Anaconda3\\lib\\site-packages\\sklearn\\utils\\deprecation.py:77: DeprecationWarning: Function _ratio_float is deprecated; Use a float for 'ratio' is deprecated from version 0.2. The support will be removed in 0.4. Use a dict, str, or a callable instead.\n",
      "  warnings.warn(msg, category=DeprecationWarning)\n",
      "C:\\Users\\pc1\\Anaconda3\\lib\\site-packages\\sklearn\\utils\\deprecation.py:77: DeprecationWarning: Function _ratio_float is deprecated; Use a float for 'ratio' is deprecated from version 0.2. The support will be removed in 0.4. Use a dict, str, or a callable instead.\n",
      "  warnings.warn(msg, category=DeprecationWarning)\n",
      "C:\\Users\\pc1\\Anaconda3\\lib\\site-packages\\sklearn\\utils\\deprecation.py:77: DeprecationWarning: Function _ratio_float is deprecated; Use a float for 'ratio' is deprecated from version 0.2. The support will be removed in 0.4. Use a dict, str, or a callable instead.\n",
      "  warnings.warn(msg, category=DeprecationWarning)\n",
      "C:\\Users\\pc1\\Anaconda3\\lib\\site-packages\\sklearn\\utils\\deprecation.py:77: DeprecationWarning: Function _ratio_float is deprecated; Use a float for 'ratio' is deprecated from version 0.2. The support will be removed in 0.4. Use a dict, str, or a callable instead.\n",
      "  warnings.warn(msg, category=DeprecationWarning)\n"
     ]
    },
    {
     "name": "stdout",
     "output_type": "stream",
     "text": [
      "Accuracy: 99.85023368411224\n",
      "Recall: 15.833333333333332\n",
      "Precision: 0.8749257278669041\n",
      "F-measure: 16.224118855697803\n",
      "AUC: 0.9136850448014144\n",
      "True positives: 3\n",
      "False positives: 13\n",
      "True negatives: 236678\n",
      "False negatives: 342\n"
     ]
    }
   ],
   "source": [
    "classifier=LogisticRegression(C=500, penalty='l1')\n",
    "cross_validation_10_fold(classifier, features, labels)"
   ]
  }
 ],
 "metadata": {
  "kernelspec": {
   "display_name": "Python 3",
   "language": "python",
   "name": "python3"
  },
  "language_info": {
   "codemirror_mode": {
    "name": "ipython",
    "version": 3
   },
   "file_extension": ".py",
   "mimetype": "text/x-python",
   "name": "python",
   "nbconvert_exporter": "python",
   "pygments_lexer": "ipython3",
   "version": "3.6.4"
  }
 },
 "nbformat": 4,
 "nbformat_minor": 2
}
